{
 "cells": [
  {
   "cell_type": "markdown",
   "id": "fb1aff1a-90b2-4547-9961-44ba64ad5dba",
   "metadata": {},
   "source": [
    "Analysis of FairSD vs Fair flat10_zec runs"
   ]
  },
  {
   "cell_type": "code",
   "execution_count": 1,
   "id": "fc8bd835-343a-4bcd-b462-91e0ee47c11c",
   "metadata": {},
   "outputs": [],
   "source": [
    "import os\n",
    "import numpy as np\n",
    "# import matplotlib.pyplot as pl\n",
    "import matplotlib.pyplot as plt\n",
    "import pandas as pd\n",
    "import pooch\n",
    "import seaborn as sns\n",
    "from tqdm.auto import tqdm\n",
    "import xarray as xr\n",
    "import numpy as np\n",
    "import scipy.signal\n",
    "import scipy\n",
    "from IPython.display import display, Math"
   ]
  },
  {
   "cell_type": "code",
   "execution_count": 4,
   "id": "4439dd72-769f-42b2-9239-6199206d7bf8",
   "metadata": {},
   "outputs": [
    {
     "name": "stdout",
     "output_type": "stream",
     "text": [
      "constrained_by_co20909_03152024.npy\n",
      "constrained_by_co2_1639_03152024.npy\n",
      "constrained_by_co22336_03142024.npy\n",
      "constrained_by_gr0909_03152024.npy\n",
      "constrained_by_gr_1639_03152024.npy\n",
      "constrained_by_gr2336_03142024.npy\n",
      "constrained_by_T0909_03152024.npy\n",
      "constrained_by_T_1639_03152024.npy\n",
      "constrained_by_T_2336_03142024.npy\n",
      "constrained_gems0910_03152024.npy\n",
      "constrained_gems_1639_03152024.npy\n",
      "constrained_gems2336_03142024.npy\n",
      "\u001b[0m\u001b[01;34mfair_local\u001b[0m/\n",
      "fairSD_analysis.ipynb\n",
      "fairSD_run.ipynb\n",
      "gems_constrained_config_ens_1432_03142024.npy\n",
      "landc_zec_response.png\n"
     ]
    }
   ],
   "source": []
  },
  {
   "cell_type": "code",
   "execution_count": null,
   "id": "9b16b851-26c6-4fcc-af96-8f84e076d607",
   "metadata": {},
   "outputs": [],
   "source": []
  }
 ],
 "metadata": {
  "kernelspec": {
   "display_name": "fairsd",
   "language": "python",
   "name": "fairsd"
  },
  "language_info": {
   "codemirror_mode": {
    "name": "ipython",
    "version": 3
   },
   "file_extension": ".py",
   "mimetype": "text/x-python",
   "name": "python",
   "nbconvert_exporter": "python",
   "pygments_lexer": "ipython3",
   "version": "3.10.9"
  }
 },
 "nbformat": 4,
 "nbformat_minor": 5
}
